{
 "cells": [
  {
   "cell_type": "code",
   "execution_count": 1,
   "metadata": {},
   "outputs": [],
   "source": [
    "from py_regression.custom import CustomRegressor\n",
    "from py_regression.ridge_regression import RidgeRegression\n",
    "from sklearn import datasets\n",
    "from sklearn.model_selection import train_test_split\n",
    "from sklearn.metrics import mean_squared_error\n",
    "from sklearn.linear_model import Ridge\n",
    "import numpy as np\n",
    "import pandas as pd\n",
    "import os"
   ]
  },
  {
   "cell_type": "code",
   "execution_count": 2,
   "metadata": {},
   "outputs": [],
   "source": [
    "# Generating data\n",
    "n_samples = 50\n",
    "\n",
    "X, y, coef = datasets.make_regression(n_samples=n_samples, n_features=2,\n",
    "                                      n_informative=1, noise=1, coef=True, random_state=2020)\n",
    "\n",
    "# Splitting dataset into train and test set \n",
    "X_train, X_test, Y_train, Y_test = train_test_split(X, y, \n",
    "                            test_size=0.2, random_state=123)"
   ]
  },
  {
   "cell_type": "code",
   "execution_count": 8,
   "metadata": {},
   "outputs": [
    {
     "data": {
      "text/plain": [
       "0.8499747105516381"
      ]
     },
     "execution_count": 8,
     "metadata": {},
     "output_type": "execute_result"
    }
   ],
   "source": [
    "Y_train.mean()"
   ]
  },
  {
   "cell_type": "code",
   "execution_count": 3,
   "metadata": {},
   "outputs": [
    {
     "name": "stdout",
     "output_type": "stream",
     "text": [
      "MSE: 120.41547249074092\n",
      "Trained Coef: [4.15728916 0.69778998]\n"
     ]
    },
    {
     "data": {
      "text/plain": [
       "(array([ -4.51729397, -15.0777967 , -20.38069265,  13.01182383,\n",
       "         -4.2350477 ,   7.4169711 ,  21.57988713,  15.83279275,\n",
       "          4.7991907 ,  19.1217498 ]),\n",
       " array([-0.30479315, -3.52731077, -4.14718529,  3.35705103, -0.82156437,\n",
       "         0.40466026,  5.26532884,  4.99500677,  2.1171584 ,  3.48159789]))"
      ]
     },
     "execution_count": 3,
     "metadata": {},
     "output_type": "execute_result"
    }
   ],
   "source": [
    "# Model training     `\n",
    "model = RidgeRegression(l2_penality = 0.01) \n",
    "model.fit(X_train, Y_train)\n",
    "\n",
    "# Prediction on test set \n",
    "Y_pred = model.predict(X_test)\n",
    "mse = mean_squared_error(Y_test, Y_pred)\n",
    "print('MSE:', mse)\n",
    "print(\"Trained Coef:\", model.W)  \n",
    "Y_test, Y_pred"
   ]
  },
  {
   "cell_type": "code",
   "execution_count": 4,
   "metadata": {},
   "outputs": [
    {
     "name": "stdout",
     "output_type": "stream",
     "text": [
      "Loss: logcosh , MSE: 8.719136675263501 coef: [16.09341243  0.34675723]\n"
     ]
    },
    {
     "data": {
      "text/plain": [
       "(array([ -4.51729397, -15.0777967 , -20.38069265,  13.01182383,\n",
       "         -4.2350477 ,   7.4169711 ,  21.57988713,  15.83279275,\n",
       "          4.7991907 ,  19.1217498 ]),\n",
       " array([ -2.25365378, -12.97470176, -15.65948381,  10.3286596 ,\n",
       "         -3.38457468,   4.54781352,  17.07425294,  14.10045139,\n",
       "          3.90398208,  15.2363162 ]))"
      ]
     },
     "execution_count": 4,
     "metadata": {},
     "output_type": "execute_result"
    }
   ],
   "source": [
    "cr = CustomRegressor()\n",
    "cr.fit(X_train, Y_train) \n",
    "Y_pred = cr.predict(X_test)\n",
    "mse = mean_squared_error(Y_test, Y_pred)\n",
    "print('Loss: logcosh , MSE:', mse, 'coef:', cr.W)      \n",
    "Y_test, Y_pred"
   ]
  },
  {
   "cell_type": "markdown",
   "metadata": {},
   "source": [
    "### The effect of the extreme values can be recuded by using logcosh"
   ]
  },
  {
   "cell_type": "code",
   "execution_count": 15,
   "metadata": {},
   "outputs": [],
   "source": [
    "Y_train[0] = 20"
   ]
  },
  {
   "cell_type": "code",
   "execution_count": 16,
   "metadata": {},
   "outputs": [
    {
     "name": "stdout",
     "output_type": "stream",
     "text": [
      "MSE: 143.8223687001078\n",
      "Trained Coef: [ 3.80388182 -0.98474715]\n",
      "Original Coef: [19.9916989  0.       ]\n"
     ]
    },
    {
     "data": {
      "text/plain": [
       "(array([ -4.51729397, -15.0777967 , -20.38069265,  13.01182383,\n",
       "         -4.2350477 ,   7.4169711 ,  21.57988713,  15.83279275,\n",
       "          4.7991907 ,  19.1217498 ]),\n",
       " array([-0.73365569, -2.4731708 , -3.23694894,  1.51854211, -0.60700127,\n",
       "         2.71112963,  2.82226839,  1.24617838, -0.7361757 ,  4.68353053]))"
      ]
     },
     "execution_count": 16,
     "metadata": {},
     "output_type": "execute_result"
    }
   ],
   "source": [
    "# Model training\n",
    "model = RidgeRegression() \n",
    "model.fit(X_train, Y_train) \n",
    "\n",
    "# Prediction on test set \n",
    "Y_pred = model.predict(X_test)\n",
    "mse = mean_squared_error(Y_test, Y_pred)\n",
    "print('MSE:', mse)\n",
    "print(\"Trained Coef:\", model.W)  \n",
    "print(\"Original Coef:\", coef)\n",
    "Y_test, Y_pred"
   ]
  },
  {
   "cell_type": "code",
   "execution_count": 17,
   "metadata": {},
   "outputs": [
    {
     "name": "stdout",
     "output_type": "stream",
     "text": [
      "Loss: logcosh , MSE: 8.717530134744258 coef: [16.09386584  0.34665745]\n"
     ]
    },
    {
     "data": {
      "text/plain": [
       "(array([ -4.51729397, -15.0777967 , -20.38069265,  13.01182383,\n",
       "         -4.2350477 ,   7.4169711 ,  21.57988713,  15.83279275,\n",
       "          4.7991907 ,  19.1217498 ]),\n",
       " array([ -2.25374767, -12.9750161 , -15.65988706,  10.32884607,\n",
       "         -3.38465998,   4.54809993,  17.0745996 ,  14.1006246 ,\n",
       "          3.90391194,  15.23684686]))"
      ]
     },
     "execution_count": 17,
     "metadata": {},
     "output_type": "execute_result"
    }
   ],
   "source": [
    "cr = CustomRegressor()\n",
    "cr.fit(X_train, Y_train) \n",
    "Y_pred = cr.predict(X_test)\n",
    "mse = mean_squared_error(Y_test, Y_pred)\n",
    "print('Loss: logcosh , MSE:', mse, 'coef:', cr.W)      \n",
    "Y_test, Y_pred"
   ]
  },
  {
   "cell_type": "code",
   "execution_count": null,
   "metadata": {},
   "outputs": [],
   "source": []
  },
  {
   "cell_type": "code",
   "execution_count": null,
   "metadata": {},
   "outputs": [],
   "source": []
  }
 ],
 "metadata": {
  "kernelspec": {
   "display_name": "Python 3",
   "language": "python",
   "name": "python3"
  },
  "language_info": {
   "codemirror_mode": {
    "name": "ipython",
    "version": 3
   },
   "file_extension": ".py",
   "mimetype": "text/x-python",
   "name": "python",
   "nbconvert_exporter": "python",
   "pygments_lexer": "ipython3",
   "version": "3.7.9"
  }
 },
 "nbformat": 4,
 "nbformat_minor": 4
}
